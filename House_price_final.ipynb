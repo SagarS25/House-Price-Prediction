{
 "cells": [
  {
   "cell_type": "code",
   "execution_count": 1,
   "id": "22de8fcd-a432-4a6e-9a34-fa9f88a2e419",
   "metadata": {},
   "outputs": [],
   "source": [
    "import pandas as pd\n",
    "import numpy as np\n",
    "import datetime\n",
    "from sklearn import linear_model\n",
    "from sklearn.preprocessing import StandardScaler\n",
    "from sklearn.model_selection import train_test_split\n",
    "from sklearn.metrics import r2_score,mean_absolute_error,mean_squared_error"
   ]
  },
  {
   "cell_type": "code",
   "execution_count": 2,
   "id": "7498f068-c68e-4d03-a8f8-71fbc8f6ace6",
   "metadata": {},
   "outputs": [],
   "source": [
    "df=pd.read_csv(\"data1.csv\")\n",
    "df.dropna(inplace=True)\n",
    "df.drop_duplicates(inplace=True)"
   ]
  },
  {
   "cell_type": "code",
   "execution_count": 3,
   "id": "8d02c87d-ac74-4d8d-a05b-ca0c1a726fb7",
   "metadata": {},
   "outputs": [],
   "source": [
    "y=df[['price']].copy()\n",
    "X=df.copy()"
   ]
  },
  {
   "cell_type": "code",
   "execution_count": 4,
   "id": "18e23923-185d-4efc-bd18-d0e926e5c8cd",
   "metadata": {},
   "outputs": [],
   "source": [
    "li=X[['city']].drop_duplicates()\n",
    "l0={}\n",
    "k=1\n",
    "for i in li['city']:\n",
    "    l0[i]=k\n",
    "    k+=1\n",
    "df1=X.replace({'city':l0})"
   ]
  },
  {
   "cell_type": "code",
   "execution_count": 5,
   "id": "160917ed-d091-486f-bdc6-8c49ad1ec4a2",
   "metadata": {},
   "outputs": [],
   "source": [
    "li=X[['street']].drop_duplicates()\n",
    "l1={}\n",
    "k=1\n",
    "for i in li['street']:\n",
    "    l1[i]=k\n",
    "    k+=1\n",
    "df1.replace({'street':l1},inplace=True)"
   ]
  },
  {
   "cell_type": "code",
   "execution_count": 6,
   "id": "cc40cfbb-5d06-4073-9faf-c5760d58a13c",
   "metadata": {},
   "outputs": [],
   "source": [
    "li=X[['statezip']].drop_duplicates()\n",
    "l2={}\n",
    "k=1\n",
    "for i in li['statezip']:\n",
    "    l2[i]=k\n",
    "    k+=1\n",
    "df1.replace({'statezip':l2},inplace=True)"
   ]
  },
  {
   "cell_type": "code",
   "execution_count": 7,
   "id": "dabd46e3-b838-4e5a-a285-494f61cdd4c6",
   "metadata": {},
   "outputs": [],
   "source": [
    "li=X[['country']].drop_duplicates()\n",
    "l3={}\n",
    "k=1\n",
    "for i in li['country']:\n",
    "    l3[i]=k\n",
    "    k+=1\n",
    "df1.replace({'country':l3},inplace=True)"
   ]
  },
  {
   "cell_type": "code",
   "execution_count": 8,
   "id": "63832e40-71db-4286-958d-3d7b2d2e28b1",
   "metadata": {},
   "outputs": [],
   "source": [
    "li=X[['date']].drop_duplicates()\n",
    "l4={}\n",
    "k=1\n",
    "for i in li['date']:\n",
    "    l4[i]=k\n",
    "    k+=1\n",
    "df1.replace({'date':l4},inplace=True)"
   ]
  },
  {
   "cell_type": "code",
   "execution_count": 9,
   "id": "64a131eb-83f9-4322-a796-b02ab5220833",
   "metadata": {},
   "outputs": [],
   "source": [
    "cor=df1.corr()[['price']]\n",
    "cor.drop(\"price\",axis=0,inplace=True)\n",
    "nalist=cor.isna()\n",
    "useful=[]"
   ]
  },
  {
   "cell_type": "code",
   "execution_count": 10,
   "id": "34d069be-2e90-4ee6-83f2-d6ec0b2b3e7f",
   "metadata": {},
   "outputs": [],
   "source": [
    "df1.drop(\"price\",axis=1,inplace=True)\n",
    "scale=StandardScaler()\n",
    "scaledX=scale.fit_transform(df1)"
   ]
  },
  {
   "cell_type": "code",
   "execution_count": 11,
   "id": "5b814c2e-4ae6-4d8b-82dd-096261c68e3a",
   "metadata": {},
   "outputs": [],
   "source": [
    "for i in range(0,len(cor)):\n",
    "    if(nalist.at[nalist.index[i],'price']==True):\n",
    "        useful.append(0)\n",
    "    elif(abs(cor.at[cor.index[i],'price'])<0.1):\n",
    "        useful.append(0)\n",
    "    else:\n",
    "        useful.append(1)"
   ]
  },
  {
   "cell_type": "code",
   "execution_count": 12,
   "id": "d0f78ab2-6549-4ea2-ade2-3b852d1e7238",
   "metadata": {},
   "outputs": [],
   "source": [
    "for i in range(len(useful)-1,-1,-1):\n",
    "    if(useful[i]==0):\n",
    "        #df1.drop(df1.columns[i],axis=1,inplace=True)\n",
    "        scaledX=np.delete(scaledX,i,axis=1)"
   ]
  },
  {
   "cell_type": "code",
   "execution_count": 13,
   "id": "558971e6-e7a2-49f7-82fa-6700d4de431a",
   "metadata": {},
   "outputs": [],
   "source": [
    "X_train,X_test,Y_train,Y_test=train_test_split(scaledX,y,test_size=0.2,random_state=42)"
   ]
  },
  {
   "cell_type": "code",
   "execution_count": 14,
   "id": "0b2db2a7-09bf-4a03-9d4a-5e2ed2eb4e50",
   "metadata": {},
   "outputs": [
    {
     "data": {
      "text/plain": [
       "LinearRegression()"
      ]
     },
     "execution_count": 14,
     "metadata": {},
     "output_type": "execute_result"
    }
   ],
   "source": [
    "regr=linear_model.LinearRegression()\n",
    "regr.fit(X_train,Y_train)"
   ]
  },
  {
   "cell_type": "code",
   "execution_count": 15,
   "id": "cf9195ec-ec05-469e-a2d6-d3aea8bd29df",
   "metadata": {},
   "outputs": [],
   "source": [
    "Y_predicted=regr.predict(X_test)"
   ]
  },
  {
   "cell_type": "code",
   "execution_count": 16,
   "id": "9cd4e1ed-8dcd-4013-b618-0e0990951053",
   "metadata": {},
   "outputs": [],
   "source": [
    "def evaluation(y, predictions):\n",
    "    mae = mean_absolute_error(y, predictions)\n",
    "    mse = mean_squared_error(y, predictions)\n",
    "    rmse = np.sqrt(mean_squared_error(y, predictions))\n",
    "    r_squared = r2_score(y, predictions)\n",
    "    return mae, mse, rmse, r_squared"
   ]
  },
  {
   "cell_type": "code",
   "execution_count": 17,
   "id": "f56537b3-b026-4cb3-a4cd-be8d31acad3f",
   "metadata": {
    "scrolled": true
   },
   "outputs": [
    {
     "name": "stdout",
     "output_type": "stream",
     "text": [
      "(219035.9873026964, 990612650718.3594, 995295.2580608226, 0.028664798038205208)\n"
     ]
    }
   ],
   "source": [
    "print(evaluation(Y_test,Y_predicted))"
   ]
  },
  {
   "cell_type": "code",
   "execution_count": 23,
   "id": "6ce5a9e9-a842-47f4-a040-8df379aa6c9d",
   "metadata": {},
   "outputs": [
    {
     "name": "stdout",
     "output_type": "stream",
     "text": [
      "Give user input:\n",
      "Enter year:2014\n",
      "Enter month:6\n",
      "Enter date:19\n",
      "Enter expected price:340000\n",
      "Enter Number of bedrooms:3\n",
      "Enter Number of bathrooms:3\n",
      "Enter Number living sqrt:1700\n",
      "Enter Number total sqrt:2500\n",
      "Enter Number of floors:3\n",
      "Enter Number of Water Front:1\n",
      "Enter Number of views:1\n",
      "Enter Number of conditions:0\n",
      "Enter Number of square feet above:2700\n",
      "Enter Number of square feet of basement:0\n",
      "Enter year built:2012\n",
      "Enter year renovated:0\n",
      "Enter Street:wall street\n",
      "Enter city:Seattle\n",
      "Enter State zip:USA\n",
      "Enter Country:USA\n"
     ]
    }
   ],
   "source": [
    "print(\"Give user input:\")\n",
    "user=[]\n",
    "yr=int(input(\"Enter year:\"))\n",
    "mo=int(input(\"Enter month:\"))\n",
    "da=int(input(\"Enter date:\"))\n",
    "x=datetime.datetime(yr,mo,da)\n",
    "if x in l4.keys():\n",
    "    user.append(l4[x])\n",
    "else:\n",
    "    user.append(0)\n",
    "x=float(input(\"Enter expected price:\"))\n",
    "user.append(x)\n",
    "x=float(input(\"Enter Number of bedrooms:\"))\n",
    "user.append(x)   \n",
    "x=float(input(\"Enter Number of bathrooms:\"))\n",
    "user.append(x)   \n",
    "x=float(input(\"Enter Number living sqrt:\"))\n",
    "user.append(x)   \n",
    "x=float(input(\"Enter Number total sqrt:\"))\n",
    "user.append(x)   \n",
    "x=float(input(\"Enter Number of floors:\"))\n",
    "user.append(x)   \n",
    "x=float(input(\"Enter Number of Water Front:\"))\n",
    "user.append(x)   \n",
    "x=float(input(\"Enter Number of views:\"))\n",
    "user.append(x)   \n",
    "x=float(input(\"Enter Number of conditions:\"))\n",
    "user.append(x)   \n",
    "x=float(input(\"Enter Number of square feet above:\"))\n",
    "user.append(x)   \n",
    "x=float(input(\"Enter Number of square feet of basement:\"))\n",
    "user.append(x)   \n",
    "x=float(input(\"Enter year built:\"))\n",
    "user.append(x)   \n",
    "x=float(input(\"Enter year renovated:\"))\n",
    "user.append(x)   \n",
    "x=str(input(\"Enter Street:\"))\n",
    "if x in l1.keys():\n",
    "    user.append(l1[x])\n",
    "else:\n",
    "    user.append(0)   \n",
    "x=str(input(\"Enter city:\"))\n",
    "if x in l0.keys():\n",
    "    user.append(l0[x])\n",
    "else:\n",
    "    user.append(0)  \n",
    "x=str(input(\"Enter State zip:\"))\n",
    "if x in l2.keys():\n",
    "    user.append(l2[x])\n",
    "else:\n",
    "    user.append(0)  \n",
    "x=str(input(\"Enter Country:\"))\n",
    "if x in l3.keys():\n",
    "    user.append(l3[x])\n",
    "else:\n",
    "    user.append(0)   "
   ]
  },
  {
   "cell_type": "code",
   "execution_count": 24,
   "id": "22234e25-37c5-497e-a2a6-cbc768615bcf",
   "metadata": {},
   "outputs": [
    {
     "name": "stdout",
     "output_type": "stream",
     "text": [
      "[-1.88445915 -0.44112227  1.07080413 -0.45617895 -0.34426789  2.76449688\n",
      " 11.76409535  0.97562407 -5.09740497  1.01236471 -0.67246372  1.38633077\n",
      " -0.82569345 -1.72238367 -0.82370641 -1.63121212  0.        ]\n"
     ]
    }
   ],
   "source": [
    "expected_price=user[1]\n",
    "user=np.delete(user,1)\n",
    "user=scale.transform([user])[0]\n",
    "print(user)"
   ]
  },
  {
   "cell_type": "code",
   "execution_count": 25,
   "id": "28f4ce32-69ef-424d-85e2-6f89bfa86ecc",
   "metadata": {},
   "outputs": [],
   "source": [
    "for i in range((len(user)-1),-1,-1):\n",
    "    if(useful[i]==0):\n",
    "        user=np.delete(user,i)"
   ]
  },
  {
   "cell_type": "code",
   "execution_count": 26,
   "id": "196f1cba-2f76-477a-b7f2-6717f553ac7c",
   "metadata": {},
   "outputs": [
    {
     "name": "stdout",
     "output_type": "stream",
     "text": [
      "1048431.2897350655\n",
      "340000.0\n"
     ]
    }
   ],
   "source": [
    "res=regr.predict([user])\n",
    "print(res[0][0])\n",
    "print(expected_price)"
   ]
  },
  {
   "cell_type": "code",
   "execution_count": null,
   "id": "f8d6d4ae-8e04-4ce7-a628-801f81750a1a",
   "metadata": {},
   "outputs": [],
   "source": []
  },
  {
   "cell_type": "code",
   "execution_count": null,
   "id": "8746bc0d",
   "metadata": {},
   "outputs": [],
   "source": []
  }
 ],
 "metadata": {
  "kernelspec": {
   "display_name": "Python 3 (ipykernel)",
   "language": "python",
   "name": "python3"
  },
  "language_info": {
   "codemirror_mode": {
    "name": "ipython",
    "version": 3
   },
   "file_extension": ".py",
   "mimetype": "text/x-python",
   "name": "python",
   "nbconvert_exporter": "python",
   "pygments_lexer": "ipython3",
   "version": "3.9.7"
  }
 },
 "nbformat": 4,
 "nbformat_minor": 5
}
